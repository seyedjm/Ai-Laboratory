{
 "cells": [
  {
   "cell_type": "code",
   "execution_count": 28,
   "id": "beb8b98d-4f57-4deb-a782-28e14bc4ae3b",
   "metadata": {},
   "outputs": [],
   "source": [
    "dadeha = [(1, 3), (3, 1)]"
   ]
  },
  {
   "cell_type": "code",
   "execution_count": 29,
   "id": "61277090-5e5c-4953-be05-a2da73953d64",
   "metadata": {},
   "outputs": [],
   "source": [
    "def f(w, b):\n",
    "    return sum((y - (w * x + b))**2 for x, y in dadeha)\n",
    "def dw(w, b):\n",
    "    return sum(-2 * x * (y - (w * x + b)) for x, y in dadeha)\n",
    "def db(w, b):\n",
    "    return sum(-2 * (y - (w * x + b)) for x, y in dadeha)"
   ]
  },
  {
   "cell_type": "code",
   "execution_count": 30,
   "id": "19387b1d-8dc4-4241-92d6-6dbeacef6bae",
   "metadata": {},
   "outputs": [],
   "source": [
    "w = 0\n",
    "b = 0\n",
    "alpha = 0.01 "
   ]
  },
  {
   "cell_type": "code",
   "execution_count": 31,
   "id": "f16d03de-1ae9-439f-89d1-064455571909",
   "metadata": {},
   "outputs": [],
   "source": [
    "for t in range(10):\n",
    "    value = f(w, b)        \n",
    "    gradient_w = dw(w, b)  \n",
    "    gradient_b = db(w, b)  \n",
    "    w = w - alpha * gradient_w\n",
    "    b = b - alpha * gradient_b"
   ]
  },
  {
   "cell_type": "code",
   "execution_count": 32,
   "id": "68b23c7d-6778-44dc-90b9-2dd8c740ecac",
   "metadata": {},
   "outputs": [
    {
     "name": "stdout",
     "output_type": "stream",
     "text": [
      "marhale 9: w=0.4174, b=0.4666, f(w,b)=5.0779\n"
     ]
    }
   ],
   "source": [
    "print(f\"marhale {t}: w={w:.4f}, b={b:.4f}, f(w,b)={value:.4f}\")"
   ]
  },
  {
   "cell_type": "code",
   "execution_count": 31,
   "id": "3e8eebc1-0bb0-49d7-be38-116c0f1001ed",
   "metadata": {},
   "outputs": [],
   "source": [
    "#I got help from AI"
   ]
  }
 ],
 "metadata": {
  "kernelspec": {
   "display_name": "Python 3 (ipykernel)",
   "language": "python",
   "name": "python3"
  },
  "language_info": {
   "codemirror_mode": {
    "name": "ipython",
    "version": 3
   },
   "file_extension": ".py",
   "mimetype": "text/x-python",
   "name": "python",
   "nbconvert_exporter": "python",
   "pygments_lexer": "ipython3",
   "version": "3.11.9"
  }
 },
 "nbformat": 4,
 "nbformat_minor": 5
}
