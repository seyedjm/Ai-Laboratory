{
  "cells": [
    {
      "cell_type": "code",
      "execution_count": null,
      "metadata": {},
      "outputs": [],
      "source": [
        "def mse_val(a, b):\n",
        "    return sum((x - y) ** 2 for x, y in zip(a, b))\n",
        "\n",
        "data1 = [0, 1, 2]\n",
        "data2 = [1, 1, 3]\n",
        "print(\"MSE =\", mse_val(data1, data2))"
      ]
    }
  ],
  "metadata": {
    "kernelspec": {
      "display_name": "Python 3",
      "language": "python",
      "name": "python3"
    },
    "language_info": {
      "name": "python",
      "version": "3.x"
    }
  },
  "nbformat": 4,
  "nbformat_minor": 2
}